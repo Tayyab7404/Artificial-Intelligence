{
 "cells": [
  {
   "cell_type": "markdown",
   "id": "021350fb-41bd-40c3-9c17-52af2addf305",
   "metadata": {},
   "source": [
    "# **A*** **Algorithm**"
   ]
  },
  {
   "cell_type": "markdown",
   "id": "a5d01e7f-1efd-46be-b9a8-fca5a9958d04",
   "metadata": {},
   "source": [
    "<center><img src=\"GBFS.png\" width=500></center>"
   ]
  },
  {
   "cell_type": "code",
   "execution_count": 1,
   "id": "55a80cd2-8bdb-40af-973b-387b2b7bab8f",
   "metadata": {},
   "outputs": [],
   "source": [
    "romania = {'A': {'S': 140, 'T': 118, 'Z': 75},\n",
    "           'B': {'F': 211, 'G': 90, 'P': 101, 'U': 85},\n",
    "           'C': {'D': 120, 'P': 138, 'R': 146},\n",
    "           'D': {'C': 120, 'M': 75},\n",
    "           'E': {'H': 86},\n",
    "           'F': {'B': 211, 'S': 99},\n",
    "           'G': {'B': 90},\n",
    "           'H': {'E': 86, 'U': 98},\n",
    "           'I': {'N': 87, 'V': 92},\n",
    "           'L': {'M': 70, 'T': 111},\n",
    "           'M': {'D': 75, 'L': 70},\n",
    "           'N': {'I': 87},\n",
    "           'O': {'S': 151, 'Z': 71},\n",
    "           'P': {'B': 101, 'C': 138, 'R': 97},\n",
    "           'R': {'C': 146, 'P': 97, 'S': 80},\n",
    "           'S': {'A': 140, 'F': 99, 'O': 151, 'R': 80},\n",
    "           'T': {'A': 118, 'L': 111},\n",
    "           'U': {'B': 85, 'H': 98, 'V': 142},\n",
    "           'V': {'I': 92, 'U': 142},\n",
    "           'Z': {'A': 75, 'O': 71}}\n",
    "\n",
    "hSLD = {'A': 366, 'B': 0, 'C': 160, 'D': 242, 'E': 161, 'F': 176, 'G': 77,\n",
    "        'H': 151, 'I': 226, 'L': 244, 'M': 241, 'N': 234, 'O': 380, 'P': 100,\n",
    "        'R': 193, 'S': 253, 'T': 329, 'U': 80, 'V': 199, 'Z': 374}"
   ]
  },
  {
   "cell_type": "code",
   "execution_count": 2,
   "id": "8a35f9d6-b57b-4de2-8a40-30175d18b1d1",
   "metadata": {},
   "outputs": [],
   "source": [
    "def AStar(problem, h, initial, goal):\n",
    "    node = initial\n",
    "    frontier = {node : h.get(node, 0) + 0} # Heuristic value + Path cost. Initially path cost = 0.\n",
    "    pathCost = {node : 0}\n",
    "    explored = set(node)\n",
    "\n",
    "    print()\n",
    "    \n",
    "    while frontier:\n",
    "        node = min(frontier, key=frontier.get)\n",
    "        value = frontier.get(node, 0)\n",
    "        del frontier[node]\n",
    "\n",
    "        print(f\"{node} : {value}\")\n",
    "\n",
    "        if node == goal:\n",
    "            return True\n",
    "\n",
    "        for child in problem.get(node, {}):\n",
    "            if child not in explored or child not in frontier:\n",
    "                explored.add(child)\n",
    "                pathCost[child] = pathCost.get(node, 0) + problem.get(node, {}).get(child, 0)\n",
    "                frontier[child] = pathCost.get(child, 0) + h.get(child, 0)\n",
    "            elif child in frontier and (problem.get(node, {}).get(child, 0) + pathCost.get(node, 0) + h.get(child, 0)) \\\n",
    "                                        < frontier.get(child, 0):\n",
    "                pathCost[child] = pathCost.get(node, 0) + problem.get(node, {}).get(child, 0)\n",
    "                frontier[child] = pathCost.get(child, 0) + h.get(child, 0)\n",
    "    return False"
   ]
  },
  {
   "cell_type": "code",
   "execution_count": 3,
   "id": "dd326641-d983-4a2a-b134-9d2be1c8f57c",
   "metadata": {
    "scrolled": true
   },
   "outputs": [
    {
     "name": "stdin",
     "output_type": "stream",
     "text": [
      "Enter the start node:  A\n"
     ]
    },
    {
     "name": "stdout",
     "output_type": "stream",
     "text": [
      "\n",
      "A : 366\n",
      "S : 393\n",
      "R : 413\n",
      "F : 415\n",
      "P : 417\n",
      "B : 418\n",
      "\n",
      "Goal node reached.\n"
     ]
    }
   ],
   "source": [
    "start_node = input(\"Enter the start node: \")\n",
    "\n",
    "result = AStar(romania, hSLD, start_node, \"B\")\n",
    "\n",
    "print()\n",
    "\n",
    "if result:\n",
    "    print(\"Goal node reached.\")\n",
    "else:\n",
    "    print(\"Goal node not reached.\")"
   ]
  }
 ],
 "metadata": {
  "kernelspec": {
   "display_name": "Python 3 (ipykernel)",
   "language": "python",
   "name": "python3"
  },
  "language_info": {
   "codemirror_mode": {
    "name": "ipython",
    "version": 3
   },
   "file_extension": ".py",
   "mimetype": "text/x-python",
   "name": "python",
   "nbconvert_exporter": "python",
   "pygments_lexer": "ipython3",
   "version": "3.11.4"
  }
 },
 "nbformat": 4,
 "nbformat_minor": 5
}
