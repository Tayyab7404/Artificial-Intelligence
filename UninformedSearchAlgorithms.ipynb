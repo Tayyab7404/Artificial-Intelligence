{
 "cells": [
  {
   "cell_type": "markdown",
   "id": "a7d0abf4-64e1-48ef-a214-7bd786860371",
   "metadata": {
    "id": "a7d0abf4-64e1-48ef-a214-7bd786860371"
   },
   "source": [
    "# **Depth First Search:**"
   ]
  },
  {
   "cell_type": "code",
   "execution_count": 11,
   "id": "ba218519-5d8e-480a-8ac4-ab0cd78f676b",
   "metadata": {
    "id": "9700b2c1-81ab-4c6a-a3a8-c573094ca5b9",
    "outputId": "624b6b05-813b-4756-b998-092d7ef714e1"
   },
   "outputs": [],
   "source": [
    "def DFS(graph, start, goal):\n",
    "    explored = [start]\n",
    "    frontier = [start]\n",
    "    traversal = []\n",
    "\n",
    "    while frontier:\n",
    "        node = frontier.pop()\n",
    "\n",
    "        if node in graph:\n",
    "            traversal += [node]\n",
    "\n",
    "        if node == goal:\n",
    "            return True, traversal\n",
    "\n",
    "        for neighbour in graph.get(node, []):\n",
    "            if neighbour not in explored:\n",
    "                explored += [neighbour]\n",
    "                frontier += [neighbour]\n",
    "\n",
    "    return False, traversal"
   ]
  },
  {
   "cell_type": "code",
   "execution_count": 12,
   "id": "33306115-58c0-4d24-b69b-0b6303e31e13",
   "metadata": {
    "id": "9700b2c1-81ab-4c6a-a3a8-c573094ca5b9",
    "outputId": "624b6b05-813b-4756-b998-092d7ef714e1"
   },
   "outputs": [
    {
     "name": "stdin",
     "output_type": "stream",
     "text": [
      "Enter the start node:  0\n",
      "Enter the goal node:  4\n"
     ]
    },
    {
     "name": "stdout",
     "output_type": "stream",
     "text": [
      "\n",
      "Goal node found.\n",
      "\n",
      "Path: 0 2 4 "
     ]
    }
   ],
   "source": [
    "graph = {0:[1,2],\n",
    "         1:[3],\n",
    "         2:[3,4],\n",
    "         3:[4],\n",
    "         4:[0]}\n",
    "\n",
    "start_node = int(input(\"Enter the start node: \"))\n",
    "goal_node = int(input(\"Enter the goal node: \"))\n",
    "\n",
    "found, traversal = DFS(graph, start_node, goal_node)\n",
    "\n",
    "if found:\n",
    "    print(\"\\nGoal node found.\\n\\nPath: \",end=\"\")\n",
    "    for i in traversal:\n",
    "        print(i,end=\" \")\n",
    "else:\n",
    "    print(\"\\nGoal node not found.\")"
   ]
  },
  {
   "cell_type": "markdown",
   "id": "518d7893-d73d-4824-a9c9-1d864dd4ef58",
   "metadata": {
    "id": "518d7893-d73d-4824-a9c9-1d864dd4ef58"
   },
   "source": [
    "# **Breadth First Search:**"
   ]
  },
  {
   "cell_type": "code",
   "execution_count": 13,
   "id": "ff5f3320-5f25-4f36-a675-bd95e0a987c5",
   "metadata": {
    "id": "a20f1827-db4e-4408-9708-1d77509a2648",
    "outputId": "efb1cab6-283c-4298-d233-058f8f66db75"
   },
   "outputs": [],
   "source": [
    "def BFS(graph, start, goal):\n",
    "    explored = [start]\n",
    "    frontier = [start]\n",
    "    traversal = []\n",
    "\n",
    "    while frontier:\n",
    "        node = frontier.pop(0)\n",
    "\n",
    "        if node in graph:\n",
    "            traversal += [node]\n",
    "\n",
    "        if node == goal:\n",
    "            return True, traversal\n",
    "\n",
    "        for neighbour in graph.get(node, []):\n",
    "            if neighbour not in explored:\n",
    "                explored += [neighbour]\n",
    "                frontier += [neighbour]\n",
    "\n",
    "    return False, traversal"
   ]
  },
  {
   "cell_type": "code",
   "execution_count": 14,
   "id": "d3015a69-2cc4-4b78-9e8d-9d093a437e19",
   "metadata": {
    "id": "a20f1827-db4e-4408-9708-1d77509a2648",
    "outputId": "efb1cab6-283c-4298-d233-058f8f66db75"
   },
   "outputs": [
    {
     "name": "stdin",
     "output_type": "stream",
     "text": [
      "Enter the start node:  0\n",
      "Enter the goal node:  4\n"
     ]
    },
    {
     "name": "stdout",
     "output_type": "stream",
     "text": [
      "\n",
      "Goal node found.\n",
      "\n",
      "Path: 0 1 2 3 4 "
     ]
    }
   ],
   "source": [
    "graph = {0:[1,2],\n",
    "         1:[3],\n",
    "         2:[3,4],\n",
    "         3:[4],\n",
    "         4:[0]}\n",
    "\n",
    "start_node = int(input(\"Enter the start node: \"))\n",
    "goal_node = int(input(\"Enter the goal node: \"))\n",
    "\n",
    "found, traversal = BFS(graph, start_node, goal_node)\n",
    "\n",
    "if found:\n",
    "    print(\"\\nGoal node found.\\n\\nPath: \",end=\"\")\n",
    "    for i in traversal:\n",
    "        print(i,end=' ')\n",
    "else:\n",
    "    print(\"\\nGoal node not found.\")"
   ]
  },
  {
   "cell_type": "markdown",
   "id": "2342c279-dd77-4da5-a2fa-e91b9a8d4bc6",
   "metadata": {
    "id": "2342c279-dd77-4da5-a2fa-e91b9a8d4bc6"
   },
   "source": [
    "# **Uniform Cost Search**"
   ]
  },
  {
   "cell_type": "code",
   "execution_count": 15,
   "id": "3217d3cf-56f6-4f01-b500-36c36d0ca967",
   "metadata": {
    "colab": {
     "base_uri": "https://localhost:8080/"
    },
    "executionInfo": {
     "elapsed": 4267,
     "status": "ok",
     "timestamp": 1711078792747,
     "user": {
      "displayName": "Tayyab Tavvagunta",
      "userId": "05736559268130400023"
     },
     "user_tz": -330
    },
    "id": "I3o0-JNdJ4WE",
    "outputId": "c7dffdec-398b-4e4d-f0c3-5002ab0dfb2d"
   },
   "outputs": [],
   "source": [
    "def UCS(graph, start, goal):\n",
    "    frontier = {start:0}\n",
    "    explored = []\n",
    "\n",
    "    while True:\n",
    "        if len(frontier) == 0:\n",
    "            return 'FAIL'\n",
    "\n",
    "        node = min(frontier, key=frontier.get)\n",
    "        value = frontier[node]\n",
    "        print(node, \" : \", value)\n",
    "\n",
    "        del frontier[node]\n",
    "\n",
    "        if goal == node:\n",
    "            return value\n",
    "        explored.append(node)\n",
    "\n",
    "        for neighbour, pathCost in graph[node].items():\n",
    "            if neighbour not in explored or neighbour not in frontier:\n",
    "                frontier.update({neighbour : value + pathCost})\n",
    "            elif neighbour in frontier and pathCost > value:\n",
    "                frontier.update({neighbour: value})"
   ]
  },
  {
   "cell_type": "code",
   "execution_count": 16,
   "id": "0825d029-0e9c-4bcd-ae35-f2c553d8d9db",
   "metadata": {
    "colab": {
     "base_uri": "https://localhost:8080/"
    },
    "executionInfo": {
     "elapsed": 4267,
     "status": "ok",
     "timestamp": 1711078792747,
     "user": {
      "displayName": "Tayyab Tavvagunta",
      "userId": "05736559268130400023"
     },
     "user_tz": -330
    },
    "id": "I3o0-JNdJ4WE",
    "outputId": "c7dffdec-398b-4e4d-f0c3-5002ab0dfb2d"
   },
   "outputs": [
    {
     "name": "stdin",
     "output_type": "stream",
     "text": [
      "Enter the start node:  0\n",
      "Enter the goal node:  4\n"
     ]
    },
    {
     "name": "stdout",
     "output_type": "stream",
     "text": [
      "\n",
      "Costs from 0 to: \n",
      "0  :  0\n",
      "2  :  80\n",
      "1  :  99\n",
      "3  :  177\n",
      "4  :  278\n",
      "\n",
      "Goal reached with cost: 278\n"
     ]
    }
   ],
   "source": [
    "graph = {0: {1: 99, 2: 80},\n",
    "         1: {4: 211},\n",
    "         2: {3: 97},\n",
    "         3: {4: 101},\n",
    "         4: {}}\n",
    "\n",
    "start_node = int(input(\"Enter the start node: \"))\n",
    "goal_node = int(input(\"Enter the goal node: \"))\n",
    "\n",
    "if start_node not in graph:\n",
    "    print(f\"\\n{start_node} is not in the graph.\")\n",
    "elif goal_node not in graph:\n",
    "    print(f\"\\n{goal_node} is not in the graph.\")\n",
    "else:\n",
    "    print(f\"\\nCosts from {start_node} to: \")\n",
    "    result = UCS(graph, start_node, goal_node)\n",
    "\n",
    "    if result == \"FAIL\":\n",
    "        print(\"\\nGoal node not reached.\")\n",
    "    else:\n",
    "        print(f\"\\nGoal reached with cost: {result}\")"
   ]
  },
  {
   "cell_type": "markdown",
   "id": "41e9e7b3-eac8-494e-b638-60d76390196e",
   "metadata": {
    "id": "41e9e7b3-eac8-494e-b638-60d76390196e"
   },
   "source": [
    "# **Depth Limited Search**"
   ]
  },
  {
   "cell_type": "code",
   "execution_count": 17,
   "id": "195fbe42-9e76-43fa-b17c-6c99d0b926e8",
   "metadata": {
    "colab": {
     "base_uri": "https://localhost:8080/"
    },
    "executionInfo": {
     "elapsed": 5475,
     "status": "ok",
     "timestamp": 1711076774374,
     "user": {
      "displayName": "Tayyab Tavvagunta",
      "userId": "05736559268130400023"
     },
     "user_tz": -330
    },
    "id": "55ad0ad7-5731-4606-ac41-b8015900c9ab",
    "outputId": "ac527319-7ce0-44ef-bf38-48614e4179be"
   },
   "outputs": [],
   "source": [
    "def DLS(graph, start, goal, limit):\n",
    "    if start == goal:\n",
    "        print(start)\n",
    "        return 'GOAL'\n",
    "    elif limit == 0:\n",
    "        return \"LIMIT\"\n",
    "    else:\n",
    "        cutoff = False\n",
    "        print(start, end=' ')\n",
    "        for neighbour in graph.get(start, []):\n",
    "            result = DLS(graph, neighbour, goal, limit-1)\n",
    "            if result == \"LIMIT\":\n",
    "                cutoff = True\n",
    "            elif result != \"FAIL\":\n",
    "                return result\n",
    "        return \"LIMIT\" if cutoff else \"FAIL\""
   ]
  },
  {
   "cell_type": "code",
   "execution_count": 18,
   "id": "097c0fd8-9a25-4d3d-8b39-2d00a2135a1c",
   "metadata": {
    "colab": {
     "base_uri": "https://localhost:8080/"
    },
    "executionInfo": {
     "elapsed": 5475,
     "status": "ok",
     "timestamp": 1711076774374,
     "user": {
      "displayName": "Tayyab Tavvagunta",
      "userId": "05736559268130400023"
     },
     "user_tz": -330
    },
    "id": "55ad0ad7-5731-4606-ac41-b8015900c9ab",
    "outputId": "ac527319-7ce0-44ef-bf38-48614e4179be"
   },
   "outputs": [
    {
     "name": "stdin",
     "output_type": "stream",
     "text": [
      "Enter the start node:  0\n",
      "Enter the goal node:  8\n",
      "Enter the depth limit:  3\n"
     ]
    },
    {
     "name": "stdout",
     "output_type": "stream",
     "text": [
      "\n",
      "Path: 0 1 3 4 2 5 8\n",
      "\n",
      "Goal node found.\n"
     ]
    }
   ],
   "source": [
    "graph = {0: [1, 2],\n",
    "         1: [3, 4],\n",
    "         2: [5],\n",
    "         3: [6, 7],\n",
    "         4: [],\n",
    "         5: [8, 10],\n",
    "         6: [],\n",
    "         7: [11],\n",
    "         8: [],\n",
    "         10: [12],\n",
    "         11: [],\n",
    "         12: []}\n",
    "\n",
    "start_node = int(input(\"Enter the start node: \"))\n",
    "goal_node = int(input(\"Enter the goal node: \"))\n",
    "limit = int(input(\"Enter the depth limit: \"))\n",
    "\n",
    "print(\"\\nPath: \",end=\"\")\n",
    "result = DLS(graph, start_node, goal_node, limit)\n",
    "\n",
    "if result == \"GOAL\":\n",
    "    print(\"\\nGoal node found.\")\n",
    "else:\n",
    "    print(\"\\nGoal node not found.\")"
   ]
  },
  {
   "cell_type": "markdown",
   "id": "8ad78db7-9ee9-4c14-82c5-7d2c3c579c19",
   "metadata": {
    "id": "8ad78db7-9ee9-4c14-82c5-7d2c3c579c19"
   },
   "source": [
    "# **Iterative Deepening Depth First Search**"
   ]
  },
  {
   "cell_type": "code",
   "execution_count": 19,
   "id": "5ad1ee12-3d76-4494-9ff9-539253417d7f",
   "metadata": {
    "colab": {
     "base_uri": "https://localhost:8080/"
    },
    "executionInfo": {
     "elapsed": 6003,
     "status": "ok",
     "timestamp": 1711077039764,
     "user": {
      "displayName": "Tayyab Tavvagunta",
      "userId": "05736559268130400023"
     },
     "user_tz": -330
    },
    "id": "d5d7118e-5c21-4c15-a7c3-551592fa4436",
    "outputId": "9fa08eaf-ab85-49fd-cc98-d6562a6b5646"
   },
   "outputs": [],
   "source": [
    "def IDDFS(graph, start, goal):\n",
    "    for depth in range(100):\n",
    "        print(f\"\\nDepth {depth}:\")\n",
    "        result = DLS(graph, start, goal, depth)\n",
    "        if result != 'LIMIT':\n",
    "            return result"
   ]
  },
  {
   "cell_type": "code",
   "execution_count": 20,
   "id": "c5e08a50-2800-4dd2-bbe7-4b718529f0a5",
   "metadata": {
    "colab": {
     "base_uri": "https://localhost:8080/"
    },
    "executionInfo": {
     "elapsed": 6003,
     "status": "ok",
     "timestamp": 1711077039764,
     "user": {
      "displayName": "Tayyab Tavvagunta",
      "userId": "05736559268130400023"
     },
     "user_tz": -330
    },
    "id": "d5d7118e-5c21-4c15-a7c3-551592fa4436",
    "outputId": "9fa08eaf-ab85-49fd-cc98-d6562a6b5646"
   },
   "outputs": [
    {
     "name": "stdin",
     "output_type": "stream",
     "text": [
      "Enter the start node:  0\n",
      "Enter the goal node:  8\n"
     ]
    },
    {
     "name": "stdout",
     "output_type": "stream",
     "text": [
      "\n",
      "Depth 0:\n",
      "\n",
      "Depth 1:\n",
      "0 \n",
      "Depth 2:\n",
      "0 1 2 \n",
      "Depth 3:\n",
      "0 1 3 4 2 5 8\n",
      "\n",
      "Goal node found.\n"
     ]
    }
   ],
   "source": [
    "graph = {0: [1, 2],\n",
    "         1: [3, 4],\n",
    "         2: [5],\n",
    "         3: [6, 7],\n",
    "         4: [],\n",
    "         5: [8, 10],\n",
    "         6: [],\n",
    "         7: [11],\n",
    "         8: [],\n",
    "         10: [12],\n",
    "         11: [],\n",
    "         12: []}\n",
    "\n",
    "start_node = int(input(\"Enter the start node: \"))\n",
    "goal_node = int(input(\"Enter the goal node: \"))\n",
    "\n",
    "result = IDDFS(graph, start_node, goal_node)\n",
    "\n",
    "if result == \"GOAL\":\n",
    "    print(\"\\nGoal node found.\")\n",
    "else:\n",
    "    print(\"\\nGoal node not found.\")"
   ]
  },
  {
   "cell_type": "markdown",
   "id": "5cdd4a74-f75a-4e29-abb2-ede1bbcf4f58",
   "metadata": {
    "id": "5cdd4a74-f75a-4e29-abb2-ede1bbcf4f58"
   },
   "source": [
    "# **Bidirectional Search**"
   ]
  },
  {
   "attachments": {
    "d35d4ca1-10eb-4b2c-92e0-887e79c1a808.png": {
     "image/png": "[encoded data removed]"
    }
   },
   "cell_type": "markdown",
   "id": "f2d3147f-2e8f-4835-9ff8-533226ce6cfd",
   "metadata": {},
   "source": [
    "![image.png](attachment:d35d4ca1-10eb-4b2c-92e0-887e79c1a808.png)"
   ]
  },
  {
   "cell_type": "code",
   "execution_count": 21,
   "id": "68000ff2-55ee-4bde-a9d2-f9ee736441c8",
   "metadata": {},
   "outputs": [],
   "source": [
    "def BFS(direction, graph, frontier, explored):\n",
    "    d = 'c' if direction=='F' else 'p'\n",
    "\n",
    "    node = frontier.pop(0)\n",
    "    \n",
    "    for child in graph.get(node, []).get(d, []):\n",
    "        if child not in explored:\n",
    "            frontier += [child]\n",
    "            explored += [child]\n",
    "                \n",
    "    return frontier, explored\n",
    "\n",
    "def intersecting(exploredF, exploredB):\n",
    "    intersect = set(exploredF).intersection(set(exploredB))\n",
    "    return list(intersect)[0] if intersect else -1\n",
    "\n",
    "def BidirectionalSearch(graph, source, destination):\n",
    "    frontierF = [source]\n",
    "    exploredF = [source]\n",
    "    \n",
    "    frontierB = [destination]\n",
    "    exploredB = [destination]\n",
    "\n",
    "    while frontierF and frontierB:\n",
    "        frontierF, exploredF = BFS('F', graph, frontierF, exploredF)\n",
    "        frontierB, exploredB = BFS('B', graph, frontierB, exploredB)\n",
    "\n",
    "        intersectingNode = intersecting(exploredF, exploredB)\n",
    "\n",
    "        if intersectingNode != -1:\n",
    "            print(\"\\nGoal node found.\\n\\nPath: \", end=\"\")\n",
    "            path = exploredF[:-1] + exploredB[::-1]\n",
    "            for i in path:\n",
    "                print(i, end=\" \")\n",
    "            return\n",
    "            \n",
    "    print(\"Goal node not found.\")"
   ]
  },
  {
   "cell_type": "code",
   "execution_count": 22,
   "id": "9702b4e1-a5c2-48b1-bf5a-6e69dd40779e",
   "metadata": {
    "id": "aba2f5e4-0340-47bb-a2a3-908c8d86fef8"
   },
   "outputs": [
    {
     "name": "stdin",
     "output_type": "stream",
     "text": [
      "Enter the start node:  0\n",
      "Enter the goal node:  14\n"
     ]
    },
    {
     "name": "stdout",
     "output_type": "stream",
     "text": [
      "\n",
      "Goal node found.\n",
      "\n",
      "Path: 0 4 6 7 8 10 14 "
     ]
    }
   ],
   "source": [
    "graph = {0: {'c': [4], 'p':[]},\n",
    "         1: {'c': [4], 'p':[]},\n",
    "         2: {'c': [5], 'p':[]},\n",
    "         3: {'c': [5], 'p':[]},\n",
    "         4: {'c': [6], 'p':[0, 1]},\n",
    "         5: {'c': [6], 'p':[2, 3]},\n",
    "         6: {'c': [7], 'p':[4, 5]},\n",
    "         7: {'c': [8], 'p':[6]},\n",
    "         8: {'c': [9, 10], 'p': [7]},\n",
    "         9: {'c': [11, 12], 'p': [8]},\n",
    "         10: {'c': [13, 14], 'p': [8]},\n",
    "         11: {'c': [], 'p': [9]},\n",
    "         12: {'c': [], 'p': [9]},\n",
    "         13: {'c': [], 'p': [10]},\n",
    "         14: {'c': [], 'p': [10]}}\n",
    "\n",
    "start_node = int(input(\"Enter the start node: \"))\n",
    "goal_node = int(input(\"Enter the goal node: \"))\n",
    "\n",
    "BidirectionalSearch(graph, start_node, goal_node)"
   ]
  }
 ],
 "metadata": {
  "colab": {
   "provenance": []
  },
  "kernelspec": {
   "display_name": "Python 3 (ipykernel)",
   "language": "python",
   "name": "python3"
  },
  "language_info": {
   "codemirror_mode": {
    "name": "ipython",
    "version": 3
   },
   "file_extension": ".py",
   "mimetype": "text/x-python",
   "name": "python",
   "nbconvert_exporter": "python",
   "pygments_lexer": "ipython3",
   "version": "3.11.0"
  }
 },
 "nbformat": 4,
 "nbformat_minor": 5
}
