{
 "cells": [
  {
   "cell_type": "markdown",
   "id": "9f6e149e-cd5c-4bb6-879f-4eb7b09b1886",
   "metadata": {},
   "source": [
    "# **Vacuum World Problem**"
   ]
  },
  {
   "cell_type": "code",
   "execution_count": 1,
   "id": "eef98339-ad67-4050-a786-96db2e41d960",
   "metadata": {},
   "outputs": [],
   "source": [
    "def suck(s, p):\n",
    "    if s[0] == 0 and p == 'L':\n",
    "        return s\n",
    "    if s[1] == 0 and p == 'R':\n",
    "        return s\n",
    "    if s[0] == 1 and p == 'L':\n",
    "        return [0, s[1]]\n",
    "    else:\n",
    "        return [s[0], 0]\n",
    "\n",
    "def check(d, i):\n",
    "    l = []\n",
    "    for j in d:\n",
    "        l.append([d[j]['state'], d[j]['pos']])\n",
    "    for v in l:\n",
    "        if v == i:\n",
    "            return False\n",
    "    return True"
   ]
  },
  {
   "cell_type": "code",
   "execution_count": 2,
   "id": "d231786c-2298-4be8-a139-07b9f298f40d",
   "metadata": {},
   "outputs": [
    {
     "name": "stdin",
     "output_type": "stream",
     "text": [
      "Enter the position of the vaccum cleaner (L/R):  L\n",
      "Enter whether the left box contains dirt (0/1):  1\n",
      "Enter whether the right box has dirt (1/0):  1\n"
     ]
    },
    {
     "name": "stdout",
     "output_type": "stream",
     "text": [
      "\n",
      "Path: [0, 1, 3, 5]\n",
      "{'state': [1, 1], 'pos': 'L', 'parent': None}\n",
      "{'state': [0, 1], 'pos': 'L', 'parent': 0}\n",
      "{'state': [0, 1], 'pos': 'R', 'parent': 1}\n",
      "{'state': [0, 0], 'pos': 'R', 'parent': 3}\n",
      "\n",
      "Frontier : [6]\n",
      "Explored: [0, 1, 2, 3, 4, 5]\n"
     ]
    }
   ],
   "source": [
    "pos = input(\"Enter the position of the vaccum cleaner (L/R): \")\n",
    "d1 = int(input(\"Enter whether the left box contains dirt (0/1): \"))\n",
    "d2 = int(input(\"Enter whether the right box has dirt (1/0): \"))\n",
    "\n",
    "d = {0 : {'state' : [d1, d2], 'pos' : pos, 'parent' : None}}\n",
    "frontier, explored = [0], []\n",
    "k = 0\n",
    "\n",
    "while frontier:\n",
    "    n = frontier.pop(0)\n",
    "    explored.append(n)\n",
    "    s = d[n]['state']\n",
    "    p = d[n]['pos']\n",
    "    \n",
    "    if s == [0, 0]:\n",
    "        break\n",
    "        \n",
    "    l = []\n",
    "    if p == 'L':\n",
    "        l.append([suck(s, p), 'L'])\n",
    "        l.append([s, 'R'])\n",
    "    elif p == 'R':\n",
    "        l.append([suck(s, p), 'R'])         \n",
    "        l.append([s, 'L'])\n",
    "\n",
    "    for i in l:\n",
    "        if check(d, i):\n",
    "            k += 1\n",
    "            d.update({k : {'state' : i[0], 'pos' : i[1], 'parent' : n}})\n",
    "            frontier.append(k)\n",
    "            \n",
    "nodes = []\n",
    "if explored[-1] == n:\n",
    "    while d[n]['parent'] != None:\n",
    "        nodes.append(n)\n",
    "        n = d[n]['parent']\n",
    "    nodes.append(0)\n",
    "    print(f'\\nPath: {nodes[::-1]}')\n",
    "    for i in nodes[::-1]:\n",
    "        print(d[i])\n",
    "    print()\n",
    "    print(f'Frontier : {frontier}')\n",
    "    print(f'Explored: {explored}')\n",
    "else:\n",
    "    print('Path not found.')"
   ]
  }
 ],
 "metadata": {
  "kernelspec": {
   "display_name": "Python 3 (ipykernel)",
   "language": "python",
   "name": "python3"
  },
  "language_info": {
   "codemirror_mode": {
    "name": "ipython",
    "version": 3
   },
   "file_extension": ".py",
   "mimetype": "text/x-python",
   "name": "python",
   "nbconvert_exporter": "python",
   "pygments_lexer": "ipython3",
   "version": "3.11.4"
  }
 },
 "nbformat": 4,
 "nbformat_minor": 5
}
