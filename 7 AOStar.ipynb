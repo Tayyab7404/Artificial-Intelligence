{
 "cells": [
  {
   "cell_type": "markdown",
   "id": "bb5fd776-bdc7-45f1-b123-fd0950e4a31d",
   "metadata": {},
   "source": [
    "# And Or Graph"
   ]
  },
  {
   "cell_type": "code",
   "execution_count": 2,
   "id": "4018e80a-3474-4d60-8e99-6149302efee0",
   "metadata": {},
   "outputs": [],
   "source": [
    "class State:\n",
    "    def __init__(self, l='d', r='d', v='l'):\n",
    "        self.l = l\n",
    "        self.r = r\n",
    "        self.v = v\n",
    "        self.actions = {}\n",
    "\n",
    "    def moveLeft(self):\n",
    "        if self.v == 'r':\n",
    "            self.actions['move left'] = [State(self.l, self.r, 'l')]\n",
    "    def moveRight(self):\n",
    "        if self.v == 'l':\n",
    "            self.actions['move right'] = [State(self.l, self.r, 'r')]\n",
    "    def suck(self):\n",
    "        if self.v == 'r':\n",
    "            if self.r == 'c':\n",
    "                self.actions['suck'] = [self]\n",
    "                self.actions['suck'].append(State(self.l, 'd', self.v))\n",
    "            else:\n",
    "                self.actions['suck'] = [State(self.l, 'c', self.v)]\n",
    "                if self.l == 'd':\n",
    "                    self.actions['suck'].append(State('c', 'c', self.v))\n",
    "        if self.v == 'l':\n",
    "            if self.l == 'c':\n",
    "                self.actions['suck'] = [self]\n",
    "                self.actions['suck'].append(State('d', self.r, self.v))\n",
    "            else:\n",
    "                self.actions['suck'] = [State('c', self.r, self.v)]\n",
    "                if self.r == 'd':\n",
    "                    self.actions['suck'].append(State('c', 'c', self.v))\n",
    "            \n",
    "    def explore(self):\n",
    "        self.suck()\n",
    "        self.moveLeft()\n",
    "        self.moveRight()\n",
    "\n",
    "    def goalTest(self):\n",
    "        return self.r == 'c' and self.l == 'c'\n",
    "\n",
    "    def __eq__(self, other):\n",
    "        return self.l == other.l and self.r == other.r and self.v == other.v\n",
    "\n",
    "    def __repr__(self):\n",
    "        return f\"{self.l}, {self.r}, {self.v}\""
   ]
  },
  {
   "cell_type": "code",
   "execution_count": 3,
   "id": "785ed658-584c-4cc2-b2bf-0f91d15334a7",
   "metadata": {},
   "outputs": [],
   "source": [
    "def and_or_search(state):\n",
    "\n",
    "    def or_search(state, path):\n",
    "        possible = []\n",
    "        if state.goalTest():\n",
    "            return []\n",
    "        if state in path:\n",
    "            return None\n",
    "        state.explore()\n",
    "        for action in state.actions.keys():\n",
    "            plan = and_search(state.actions[action], path + [state, ])\n",
    "            if plan is not None:\n",
    "                possible.append([action, plan])\n",
    "        return possible\n",
    "\n",
    "    def and_search(states, path):\n",
    "        plan = {}\n",
    "        for s in states:\n",
    "            plan[str(s)] = or_search(s, path)\n",
    "            if plan[str(s)] is None:\n",
    "                return None\n",
    "        return plan \n",
    "\n",
    "    return or_search(state, [])\n",
    "\n",
    "ans = and_or_search(State('d','d','l'))"
   ]
  },
  {
   "cell_type": "code",
   "execution_count": 4,
   "id": "7d653924-0346-40cb-a7fa-d1a31522284f",
   "metadata": {},
   "outputs": [],
   "source": [
    "def visualize(root, indent=0):\n",
    "    for v in root:\n",
    "        for i in v:\n",
    "            if isinstance(i, str):\n",
    "                print(f\"{' '*indent}{i}\")\n",
    "            elif isinstance(i, dict):\n",
    "                for k in i.keys():\n",
    "                    print(f\"{' '*indent}{k}\")\n",
    "                    visualize(i[k], indent+2)"
   ]
  },
  {
   "cell_type": "code",
   "execution_count": 5,
   "id": "74ea8b8d-5d2e-4a2d-8a82-873cbbd8d770",
   "metadata": {},
   "outputs": [
    {
     "name": "stdout",
     "output_type": "stream",
     "text": [
      "d, d, l\n",
      "  suck\n",
      "  c, d, l\n",
      "    move right\n",
      "    c, d, r\n",
      "      suck\n",
      "      c, c, r\n",
      "  c, c, l\n",
      "  move right\n",
      "  d, d, r\n",
      "    suck\n",
      "    d, c, r\n",
      "      move left\n",
      "      d, c, l\n",
      "        suck\n",
      "        c, c, l\n",
      "    c, c, r\n"
     ]
    }
   ],
   "source": [
    "print(State('d', 'd','l'))\n",
    "visualize(ans, indent=2)"
   ]
  }
 ],
 "metadata": {
  "kernelspec": {
   "display_name": "Python 3 (ipykernel)",
   "language": "python",
   "name": "python3"
  },
  "language_info": {
   "codemirror_mode": {
    "name": "ipython",
    "version": 3
   },
   "file_extension": ".py",
   "mimetype": "text/x-python",
   "name": "python",
   "nbconvert_exporter": "python",
   "pygments_lexer": "ipython3",
   "version": "3.11.2"
  }
 },
 "nbformat": 4,
 "nbformat_minor": 5
}
