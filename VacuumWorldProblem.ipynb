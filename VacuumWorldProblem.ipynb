{
 "cells": [
  {
   "cell_type": "markdown",
   "id": "9f6e149e-cd5c-4bb6-879f-4eb7b09b1886",
   "metadata": {},
   "source": [
    "# **Vacuum World Problem**"
   ]
  },
  {
   "cell_type": "code",
   "execution_count": null,
   "id": "76620895-ee5b-4659-a0d4-7cc99669f718",
   "metadata": {},
   "outputs": [],
   "source": []
  }
 ],
 "metadata": {
  "kernelspec": {
   "display_name": "Python 3 (ipykernel)",
   "language": "python",
   "name": "python3"
  },
  "language_info": {
   "codemirror_mode": {
    "name": "ipython",
    "version": 3
   },
   "file_extension": ".py",
   "mimetype": "text/x-python",
   "name": "python",
   "nbconvert_exporter": "python",
   "pygments_lexer": "ipython3",
   "version": "3.11.0"
  }
 },
 "nbformat": 4,
 "nbformat_minor": 5
}
