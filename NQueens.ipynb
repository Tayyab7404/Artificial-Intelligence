{
 "cells": [
  {
   "cell_type": "markdown",
   "metadata": {
    "id": "-UZ1Of6ThLDX"
   },
   "source": [
    "# **N Queens**"
   ]
  },
  {
   "cell_type": "code",
   "execution_count": 1,
   "metadata": {
    "executionInfo": {
     "elapsed": 5,
     "status": "ok",
     "timestamp": 1708331986343,
     "user": {
      "displayName": "Tayyab Tavvagunta",
      "userId": "05736559268130400023"
     },
     "user_tz": -330
    },
    "id": "q1H23EZqhJ28"
   },
   "outputs": [],
   "source": [
    "def printSolution(X):\n",
    "    for i in range(1,len(X)):\n",
    "        for j in range(1, len(X)):\n",
    "            if X[i] == j:\n",
    "                print(' Q ', end='')\n",
    "            else:\n",
    "                print(' . ', end='')\n",
    "        print()\n",
    "    print()\n",
    "\n",
    "def place(X, k, i):\n",
    "    for j in range(1,k):\n",
    "        if X[j] == i or abs(j-k) == abs(X[j] - i):\n",
    "            return False\n",
    "    return True\n",
    "\n",
    "def NQueens(X, k, N):\n",
    "    for i in range(1, len(X)):\n",
    "        if place(X, k, i):\n",
    "            X[k] = i\n",
    "\n",
    "            if k == N:\n",
    "                print(X[1:])\n",
    "                printSolution(X)\n",
    "            else:\n",
    "                NQueens(X, k+1, N)"
   ]
  },
  {
   "cell_type": "code",
   "execution_count": 2,
   "metadata": {
    "colab": {
     "base_uri": "https://localhost:8080/"
    },
    "executionInfo": {
     "elapsed": 2149,
     "status": "ok",
     "timestamp": 1708332094584,
     "user": {
      "displayName": "Tayyab Tavvagunta",
      "userId": "05736559268130400023"
     },
     "user_tz": -330
    },
    "id": "eRmrRnDkhSl-",
    "outputId": "0cd0791b-a9d4-44c7-ab08-9cb1c7441b87"
   },
   "outputs": [
    {
     "name": "stdin",
     "output_type": "stream",
     "text": [
      "Enter the number of Queens:  4\n"
     ]
    },
    {
     "name": "stdout",
     "output_type": "stream",
     "text": [
      "4 Queens Solutions:\n",
      "[2, 4, 1, 3]\n",
      " .  Q  .  . \n",
      " .  .  .  Q \n",
      " Q  .  .  . \n",
      " .  .  Q  . \n",
      "\n",
      "[3, 1, 4, 2]\n",
      " .  .  Q  . \n",
      " Q  .  .  . \n",
      " .  .  .  Q \n",
      " .  Q  .  . \n",
      "\n"
     ]
    }
   ],
   "source": [
    "if __name__ == \"__main__\":\n",
    "    N = int(input(\"Enter the number of Queens: \"))\n",
    "\n",
    "    X = [0] * (N+1)\n",
    "\n",
    "    print(f\"{N} Queens Solutions:\")\n",
    "    NQueens(X, 1, N)"
   ]
  }
 ],
 "metadata": {
  "colab": {
   "provenance": []
  },
  "kernelspec": {
   "display_name": "Python 3 (ipykernel)",
   "language": "python",
   "name": "python3"
  },
  "language_info": {
   "codemirror_mode": {
    "name": "ipython",
    "version": 3
   },
   "file_extension": ".py",
   "mimetype": "text/x-python",
   "name": "python",
   "nbconvert_exporter": "python",
   "pygments_lexer": "ipython3",
   "version": "3.12.2"
  }
 },
 "nbformat": 4,
 "nbformat_minor": 4
}
