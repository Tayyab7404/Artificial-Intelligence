{
 "cells": [
  {
   "cell_type": "markdown",
   "id": "5d353814-938a-4ea5-8151-d1645d01e4ad",
   "metadata": {},
   "source": [
    "# **Water Jug Problem**"
   ]
  },
  {
   "cell_type": "code",
   "execution_count": 1,
   "id": "a6b189b5-3805-48e7-924e-21ee2746a443",
   "metadata": {},
   "outputs": [],
   "source": [
    "def generateStates(state, capacity1, capacity2):\n",
    "    x, y = state\n",
    "    \n",
    "    # generate all possible successor states\n",
    "    states = []\n",
    "    \n",
    "    if x < capacity1:\n",
    "        states += [(capacity1, y)] # fill first jug\n",
    "    if y < capacity2:\n",
    "        states += [(x, capacity2)] # fill second jug\n",
    "    if x > 0:\n",
    "        states += [(0, y)] # empty first jug\n",
    "    if y > 0:\n",
    "        states += [(x, 0)] # empty second jug\n",
    "    if x+y <= capacity1 and y > 0:\n",
    "        states += [(x+y, 0)] # empty second jug into first jug\n",
    "    if x+y <= capacity2 and x > 0:\n",
    "        states += [(0, x+y)] # empty first jug into second jug\n",
    "    if x+y >= capacity1 and y > 0: \n",
    "        states += [(capacity1, x+y-capacity1)] # transfer from first jug to second jug until its filled\n",
    "    if x+y >= capacity2 and x > 0:\n",
    "        states += [(x+y-capacity2, capacity2)] # transfer from second jug to first jug until its filled\n",
    "        \n",
    "    return states\n",
    "\n",
    "def waterJugProblem(capacity1, capacity2, target, algo):\n",
    "    # initial state (x, y) where x and y are the amounts of water in the two jugs\n",
    "    state = (0, 0)\n",
    "    explored = {state : None}\n",
    "    frontier = [state]\n",
    "\n",
    "    popping = 0 if algo == \"BFS\" else -1\n",
    "    \n",
    "    while frontier:\n",
    "        state = frontier.pop(popping)\n",
    "        \n",
    "        if state == (target, 0) or state == (0, target):\n",
    "            # goal state reached\n",
    "            path = []\n",
    "            while state:\n",
    "                path += [state]\n",
    "                state = explored[state]\n",
    "            path.reverse()\n",
    "            return path\n",
    "\n",
    "        states = generateStates(state, capacity1, capacity2)\n",
    "            \n",
    "        for new_state in states:\n",
    "            if new_state not in explored:\n",
    "                explored[new_state] = state\n",
    "                frontier += [new_state]\n",
    "                \n",
    "    return None"
   ]
  },
  {
   "cell_type": "code",
   "execution_count": 2,
   "id": "35de04f4-a758-4859-b47a-c030b6d9ff76",
   "metadata": {},
   "outputs": [
    {
     "name": "stdin",
     "output_type": "stream",
     "text": [
      "Enter capacity of first jug:  5\n",
      "Enter capacity of second jug:  3\n",
      "Enter target volume:  4\n",
      "BFS / DFS:  BFS\n"
     ]
    },
    {
     "name": "stdout",
     "output_type": "stream",
     "text": [
      "\n",
      "Goal state reached.\n",
      "\n",
      "Solution path: \n",
      "(0, 0)\n",
      "(5, 0)\n",
      "(2, 3)\n",
      "(2, 0)\n",
      "(0, 2)\n",
      "(5, 2)\n",
      "(4, 3)\n",
      "(4, 0)\n"
     ]
    }
   ],
   "source": [
    "capacity1 = int(input(\"Enter capacity of first jug: \"))\n",
    "capacity2 = int(input(\"Enter capacity of second jug: \"))\n",
    "target = int(input(\"Enter target volume: \"))\n",
    "algo = input(\"BFS / DFS: \")\n",
    "\n",
    "path = waterJugProblem(capacity1, capacity2, target, algo)\n",
    "\n",
    "if path:\n",
    "    print(\"\\nGoal state reached.\\n\\nSolution path: \")\n",
    "    for state in path:\n",
    "        print(state)\n",
    "else:\n",
    "    print(\"\\nNo solution found.\")"
   ]
  }
 ],
 "metadata": {
  "kernelspec": {
   "display_name": "Python 3 (ipykernel)",
   "language": "python",
   "name": "python3"
  },
  "language_info": {
   "codemirror_mode": {
    "name": "ipython",
    "version": 3
   },
   "file_extension": ".py",
   "mimetype": "text/x-python",
   "name": "python",
   "nbconvert_exporter": "python",
   "pygments_lexer": "ipython3",
   "version": "3.12.2"
  }
 },
 "nbformat": 4,
 "nbformat_minor": 5
}
