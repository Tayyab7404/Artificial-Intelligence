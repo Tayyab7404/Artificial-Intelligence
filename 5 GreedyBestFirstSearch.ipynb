{
 "cells": [
  {
   "cell_type": "markdown",
   "id": "f8c9098a-641f-479f-ae2a-17841086e797",
   "metadata": {},
   "source": [
    "# **Greedy Best First Search**"
   ]
  },
  {
   "cell_type": "markdown",
   "id": "ad27ea7c-0f7c-4dab-9205-10545f274819",
   "metadata": {},
   "source": [
    "<img src=\"./GBFS.png\" width=500>"
   ]
  },
  {
   "cell_type": "code",
   "execution_count": 1,
   "id": "76a00bd2-4f75-42d2-8a7f-ac6231a9468b",
   "metadata": {},
   "outputs": [],
   "source": [
    "romania = {'A': {'S': 140, 'T': 118, 'Z': 75},\n",
    "           'B': {'F': 211, 'G': 90, 'P': 101, 'U': 85},\n",
    "           'C': {'D': 120, 'P': 138, 'R': 146},\n",
    "           'D': {'C': 120, 'M': 75},\n",
    "           'E': {'H': 86},\n",
    "           'F': {'B': 211, 'S': 99},\n",
    "           'G': {'B': 90},\n",
    "           'H': {'E': 86, 'U': 98},\n",
    "           'I': {'N': 87, 'V': 92},\n",
    "           'L': {'M': 70, 'T': 111},\n",
    "           'M': {'D': 75, 'L': 70},\n",
    "           'N': {'I': 87},\n",
    "           'O': {'S': 151, 'Z': 71},\n",
    "           'P': {'B': 101, 'C': 138, 'R': 97},\n",
    "           'R': {'C': 146, 'P': 97, 'S': 80},\n",
    "           'S': {'A': 140, 'F': 99, 'O': 151, 'R': 80},\n",
    "           'T': {'A': 118, 'L': 111},\n",
    "           'U': {'B': 85, 'H': 98, 'V': 142},\n",
    "           'V': {'I': 92, 'U': 142},\n",
    "           'Z': {'A': 75, 'O': 71}}\n",
    "\n",
    "hSLD = {'A': 366, 'B': 0, 'C': 160, 'D': 242, 'E': 161, 'F': 176, 'G': 77,\n",
    "        'H': 151, 'I': 226, 'L': 244, 'M': 241, 'N': 234, 'O': 380, 'P': 100,\n",
    "        'R': 193, 'S': 253, 'T': 329, 'U': 80, 'V': 199, 'Z': 374}"
   ]
  },
  {
   "cell_type": "code",
   "execution_count": 2,
   "id": "3152552b-cd65-4418-b513-a39635e26465",
   "metadata": {},
   "outputs": [],
   "source": [
    "def greedyBestFirstSearch(problem, h, initial, goal):\n",
    "    node = initial\n",
    "    frontier = {initial: h.get(initial, 0)}\n",
    "    explored = [initial]\n",
    "    \n",
    "    print()\n",
    "    \n",
    "    while frontier:\n",
    "        node = min(frontier, key=frontier.get)\n",
    "        print(f\"{node} :  {frontier.get(node, 0)}\")\n",
    "        \n",
    "        del frontier[node]\n",
    "\n",
    "        if node == goal:\n",
    "            return True\n",
    "        for neighbour in problem.get(node, {}):\n",
    "            if neighbour not in explored:\n",
    "                explored += [neighbour]\n",
    "                frontier[neighbour] = h.get(neighbour, 0)\n",
    "\n",
    "    return False"
   ]
  },
  {
   "cell_type": "code",
   "execution_count": 3,
   "id": "a307bada-806a-4f89-89d9-8ea3ad961571",
   "metadata": {},
   "outputs": [
    {
     "name": "stdin",
     "output_type": "stream",
     "text": [
      "Enter the start node:  A\n"
     ]
    },
    {
     "name": "stdout",
     "output_type": "stream",
     "text": [
      "\n",
      "A :  366\n",
      "S :  253\n",
      "F :  176\n",
      "B :  0\n",
      "\n",
      "Goal node reached.\n"
     ]
    }
   ],
   "source": [
    "start_node = input(\"Enter the start node: \")\n",
    "\n",
    "result = greedyBestFirstSearch(romania, hSLD, start_node, \"B\")\n",
    "\n",
    "print()\n",
    "\n",
    "if result:\n",
    "    print(\"Goal node reached.\")\n",
    "else:\n",
    "    print(\"Goal node not reached.\")"
   ]
  }
 ],
 "metadata": {
  "kernelspec": {
   "display_name": "Python 3 (ipykernel)",
   "language": "python",
   "name": "python3"
  },
  "language_info": {
   "codemirror_mode": {
    "name": "ipython",
    "version": 3
   },
   "file_extension": ".py",
   "mimetype": "text/x-python",
   "name": "python",
   "nbconvert_exporter": "python",
   "pygments_lexer": "ipython3",
   "version": "3.11.4"
  }
 },
 "nbformat": 4,
 "nbformat_minor": 5
}
