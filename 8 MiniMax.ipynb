{
 "cells": [
  {
   "cell_type": "markdown",
   "id": "5fdc3b33-92c2-4eb8-9b3f-17625d446119",
   "metadata": {},
   "source": [
    "# **Mini-Max Algorithm**"
   ]
  },
  {
   "cell_type": "markdown",
   "id": "08b7fc86-54cf-4a96-8de9-504acb19a846",
   "metadata": {},
   "source": [
    "<img src=\"MM.png\" width=35%>"
   ]
  },
  {
   "cell_type": "code",
   "execution_count": 1,
   "id": "5d14c8e6-321b-4569-9c04-2ce054cde243",
   "metadata": {},
   "outputs": [],
   "source": [
    "import math\n",
    "\n",
    "def minimaxSearch(game, state):\n",
    "\n",
    "    def maxValue(game, state):\n",
    "        if state not in game:\n",
    "            return state\n",
    "        v = -math.inf\n",
    "        for a in game[state]:\n",
    "            v = max(v, minValue(game, a))\n",
    "        print(f\"Max value for {state}: {v}\")\n",
    "        return v\n",
    "        \n",
    "    def minValue(game, state):\n",
    "        if state not in game:\n",
    "            return state\n",
    "        v = math.inf\n",
    "        for a in game[state]:\n",
    "            v = min(v, maxValue(game, a))\n",
    "        print(f\"Min value for {state}: {v}\")\n",
    "        return v\n",
    "\n",
    "    return max([minValue(game, a) for a in game[state]])"
   ]
  },
  {
   "cell_type": "code",
   "execution_count": 3,
   "id": "17b76b5b-2919-48dd-baa8-86e2eb71aa9e",
   "metadata": {},
   "outputs": [
    {
     "name": "stdout",
     "output_type": "stream",
     "text": [
      "Max value for D: 4\n",
      "Max value for E: 6\n",
      "Min value for B: 4\n",
      "Max value for F: -3\n",
      "Max value for G: 7\n",
      "Min value for C: -3\n",
      "\n",
      "The optimal value: 4\n"
     ]
    }
   ],
   "source": [
    "graph = {'A': ['B', 'C'],\n",
    "         'B': ['D', 'E'],\n",
    "         'C': ['F', 'G'],\n",
    "         'D': [-1, 4],\n",
    "         'E': [2, 6],\n",
    "         'F': [-3, -5],\n",
    "         'G': [0, 7]}\n",
    "\n",
    "print(\"\\nThe optimal value:\", minimaxSearch(graph, 'A'))"
   ]
  }
 ],
 "metadata": {
  "kernelspec": {
   "display_name": "Python 3 (ipykernel)",
   "language": "python",
   "name": "python3"
  },
  "language_info": {
   "codemirror_mode": {
    "name": "ipython",
    "version": 3
   },
   "file_extension": ".py",
   "mimetype": "text/x-python",
   "name": "python",
   "nbconvert_exporter": "python",
   "pygments_lexer": "ipython3",
   "version": "3.11.4"
  }
 },
 "nbformat": 4,
 "nbformat_minor": 5
}
