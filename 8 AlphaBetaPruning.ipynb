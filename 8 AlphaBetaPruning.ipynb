{
 "cells": [
  {
   "cell_type": "markdown",
   "id": "627ea7f4-fb19-4678-8573-9daea14b1e91",
   "metadata": {},
   "source": [
    "# **Alpha-Beta Pruning**"
   ]
  },
  {
   "cell_type": "markdown",
   "id": "26ae97f8-87f9-4371-8ddc-67f10047b8b9",
   "metadata": {},
   "source": [
    "<img src=\"ABP.png\" width=35%>"
   ]
  },
  {
   "cell_type": "code",
   "execution_count": 1,
   "id": "b4781b9c-0e47-46db-883c-ab0f05a128f3",
   "metadata": {},
   "outputs": [],
   "source": [
    "import math\n",
    "\n",
    "def alphaBetaSearch(game, state):\n",
    "\n",
    "    def maxValue(game, state, α, β):\n",
    "        if state not in game:\n",
    "            return state\n",
    "        v = -math.inf\n",
    "        for a in game[state]:\n",
    "            v = max(v, minValue(game, a, α, β))\n",
    "            if v >= β:\n",
    "                return v\n",
    "            α = max(α, v)\n",
    "        print(f\"State:{state}, V={v}, Alpha={α}, Beta={β}\")\n",
    "        return v\n",
    "\n",
    "    def minValue(game, state, α, β):\n",
    "        if state not in game:\n",
    "            return state\n",
    "        v = math.inf\n",
    "        for a in game[state]:\n",
    "            v = min(v, maxValue(game, a, α, β))\n",
    "            if v <= α:\n",
    "                return v\n",
    "            β = min(β, v)\n",
    "        print(f\"State:{state}, V={v}, Alpha={α}, Beta={β}\")\n",
    "        return v\n",
    "\n",
    "    global α\n",
    "    global β\n",
    "    α = -math.inf\n",
    "    β = math.inf\n",
    "    \n",
    "    v = maxValue(game, state, α, β)\n",
    "    return v"
   ]
  },
  {
   "cell_type": "code",
   "execution_count": 3,
   "id": "813c92a3-06cd-497d-810e-d7d0dfae167b",
   "metadata": {},
   "outputs": [
    {
     "name": "stdout",
     "output_type": "stream",
     "text": [
      "State:D, V=3, Alpha=3, Beta=inf\n",
      "State:B, V=3, Alpha=-inf, Beta=3\n",
      "State:F, V=1, Alpha=3, Beta=inf\n",
      "State:A, V=3, Alpha=3, Beta=inf\n",
      "\n",
      "The optimal value is:  3\n"
     ]
    }
   ],
   "source": [
    "graph = {'A': ['B', 'C'],\n",
    "         'B': ['D', 'E'],\n",
    "         'C': ['F', 'G'],\n",
    "         'D': [2, 3],\n",
    "         'E': [5, 9],\n",
    "         'F': [0, 1],\n",
    "         'G': [7, 5]}\n",
    "\n",
    "print(\"\\nThe optimal value is: \", alphaBetaSearch(graph, 'A'))"
   ]
  }
 ],
 "metadata": {
  "kernelspec": {
   "display_name": "Python 3 (ipykernel)",
   "language": "python",
   "name": "python3"
  },
  "language_info": {
   "codemirror_mode": {
    "name": "ipython",
    "version": 3
   },
   "file_extension": ".py",
   "mimetype": "text/x-python",
   "name": "python",
   "nbconvert_exporter": "python",
   "pygments_lexer": "ipython3",
   "version": "3.11.4"
  }
 },
 "nbformat": 4,
 "nbformat_minor": 5
}
